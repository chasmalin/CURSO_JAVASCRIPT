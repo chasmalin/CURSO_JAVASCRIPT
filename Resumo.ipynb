{
 "cells": [
  {
   "cell_type": "markdown",
   "metadata": {},
   "source": [
    "# JavaScript - Módulo A\n",
    "#### Aula 1 - O que o JS é capaz de fazer?\n",
    "1. Conceito `Client x Server`: JS funciona mais do lado do cliente do que do servidor, e esse será o foco do curso (cliente)."
   ]
  },
  {
   "cell_type": "markdown",
   "metadata": {},
   "source": [
    "`JS` é uma linguagem de programação, `HTML` e `CSS` não são.\n",
    "Então se for falar que programa, diga \"eu programo em `JS`\", nunca em `HTML` ou `CSS`. Nesses pode-se dizer \"eu desenvolvo em `CSS` ou `HTML`\""
   ]
  },
  {
   "cell_type": "markdown",
   "metadata": {},
   "source": [
    "2. Clicando em `inspecionar` (ou `F1`) em qualquer site vai abrir o `Dev Tools`, exibindo assim o conteúdo da página em `HTML`.\n",
    "- Na opção `Debugger` selecione `desabilitar JavaScript` e faça alguns testes, no google imagens e no YouTube é bem interessante."
   ]
  },
  {
   "cell_type": "markdown",
   "metadata": {},
   "source": [
    "3. Voltando no `Inspecionar`, vá na aba `Console`, lá é possível dar comandos, teste o comando:\n",
    "```JavaScript\n",
    "alert('Olá, mundo!')\n",
    "// e depois:\n",
    "document.body.style.background = 'gray'\n",
    "// em alguma imagem da página tentar aplicar a troca de cor\n",
    "document.querySelector('img#hplogo').style.filter = 'grayscale(100%)'\n",
    "// ou esconder\n",
    "document.querySelector('img#hplogo').style.visibility = 'hidden'\n",
    "// Obs.: fiz tudo no google.com\n",
    "```"
   ]
  },
  {
   "cell_type": "markdown",
   "metadata": {},
   "source": [
    "- Para descobrir o nome dos elementos na página, vá em `Inspecionar` e depois selecione o primeiro ícone da esquerda ou  `Ctrl + Shift + C`, depois passe o mouse por cima do objeto que deseja verificar.\n",
    "```JavaScript\n",
    "// teste de mudar o título da reportagem do site G1\n",
    "document.querySelector('span.bstn-hl-title').innerText = 'Teste de texto de título'\n",
    "```"
   ]
  },
  {
   "cell_type": "markdown",
   "metadata": {},
   "source": []
  },
  {
   "cell_type": "markdown",
   "metadata": {},
   "source": [
    "#### teste\n",
    "```JavaScript\n",
    "<script>\n",
    "        function copiar() {\n",
    "            var txt_copy = document.getElementById('txt').innerText;\n",
    "            navigator.clipboard.writeText(txt_copy)\n",
    "        }\n",
    "</script>\n",
    "```"
   ]
  }
 ],
 "metadata": {
  "language_info": {
   "name": "python"
  }
 },
 "nbformat": 4,
 "nbformat_minor": 2
}
