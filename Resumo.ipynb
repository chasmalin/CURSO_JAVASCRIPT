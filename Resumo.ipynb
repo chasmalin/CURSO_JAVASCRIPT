{
 "cells": [
  {
   "cell_type": "markdown",
   "metadata": {},
   "source": [
    "# JavaScript - Módulo A\n",
    "#### Aula 1 - O que o JS é capaz de fazer?\n",
    "1. Conceito `Client x Server`"
   ]
  },
  {
   "cell_type": "markdown",
   "metadata": {},
   "source": [
    "#### teste\n",
    "```JavaScript\n",
    "<script>\n",
    "        function copiar() {\n",
    "            var txt_copy = document.getElementById('txt').innerText;\n",
    "            navigator.clipboard.writeText(txt_copy)\n",
    "        }\n",
    "</script>\n",
    "```"
   ]
  }
 ],
 "metadata": {
  "language_info": {
   "name": "python"
  }
 },
 "nbformat": 4,
 "nbformat_minor": 2
}
